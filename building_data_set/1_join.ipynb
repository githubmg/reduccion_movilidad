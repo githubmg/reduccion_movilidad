{
 "cells": [
  {
   "cell_type": "code",
   "execution_count": 1,
   "metadata": {},
   "outputs": [],
   "source": [
    "#!pip install countryinfo"
   ]
  },
  {
   "cell_type": "code",
   "execution_count": 2,
   "metadata": {},
   "outputs": [],
   "source": [
    "import pandas as pd\n",
    "from countryinfo import CountryInfo"
   ]
  },
  {
   "cell_type": "code",
   "execution_count": 3,
   "metadata": {},
   "outputs": [],
   "source": [
    "df_mort_feo = pd.read_csv('../data/time_series_covid19_deaths_global.csv')\n",
    "df_mov = pd.read_csv('../data/Global_Mobility_Report.csv',low_memory=False)"
   ]
  },
  {
   "cell_type": "code",
   "execution_count": 4,
   "metadata": {},
   "outputs": [],
   "source": [
    "df_mort = pd.melt(df_mort_feo, id_vars=['Province/State', 'Country/Region', 'Lat', 'Long'])"
   ]
  },
  {
   "cell_type": "code",
   "execution_count": 5,
   "metadata": {},
   "outputs": [
    {
     "data": {
      "text/plain": [
       "Index(['Province/State', 'Country/Region', 'Lat', 'Long', 'variable', 'value'], dtype='object')"
      ]
     },
     "execution_count": 5,
     "metadata": {},
     "output_type": "execute_result"
    }
   ],
   "source": [
    "df_mort.columns"
   ]
  },
  {
   "cell_type": "code",
   "execution_count": 6,
   "metadata": {},
   "outputs": [
    {
     "data": {
      "text/html": [
       "<div>\n",
       "<style scoped>\n",
       "    .dataframe tbody tr th:only-of-type {\n",
       "        vertical-align: middle;\n",
       "    }\n",
       "\n",
       "    .dataframe tbody tr th {\n",
       "        vertical-align: top;\n",
       "    }\n",
       "\n",
       "    .dataframe thead th {\n",
       "        text-align: right;\n",
       "    }\n",
       "</style>\n",
       "<table border=\"1\" class=\"dataframe\">\n",
       "  <thead>\n",
       "    <tr style=\"text-align: right;\">\n",
       "      <th></th>\n",
       "      <th>Province/State</th>\n",
       "      <th>Country/Region</th>\n",
       "      <th>Lat</th>\n",
       "      <th>Long</th>\n",
       "      <th>variable</th>\n",
       "      <th>value</th>\n",
       "    </tr>\n",
       "  </thead>\n",
       "  <tbody>\n",
       "    <tr>\n",
       "      <th>0</th>\n",
       "      <td>NaN</td>\n",
       "      <td>Afghanistan</td>\n",
       "      <td>33.0000</td>\n",
       "      <td>65.0000</td>\n",
       "      <td>1/22/20</td>\n",
       "      <td>0</td>\n",
       "    </tr>\n",
       "    <tr>\n",
       "      <th>1</th>\n",
       "      <td>NaN</td>\n",
       "      <td>Albania</td>\n",
       "      <td>41.1533</td>\n",
       "      <td>20.1683</td>\n",
       "      <td>1/22/20</td>\n",
       "      <td>0</td>\n",
       "    </tr>\n",
       "    <tr>\n",
       "      <th>2</th>\n",
       "      <td>NaN</td>\n",
       "      <td>Algeria</td>\n",
       "      <td>28.0339</td>\n",
       "      <td>1.6596</td>\n",
       "      <td>1/22/20</td>\n",
       "      <td>0</td>\n",
       "    </tr>\n",
       "    <tr>\n",
       "      <th>3</th>\n",
       "      <td>NaN</td>\n",
       "      <td>Andorra</td>\n",
       "      <td>42.5063</td>\n",
       "      <td>1.5218</td>\n",
       "      <td>1/22/20</td>\n",
       "      <td>0</td>\n",
       "    </tr>\n",
       "    <tr>\n",
       "      <th>4</th>\n",
       "      <td>NaN</td>\n",
       "      <td>Angola</td>\n",
       "      <td>-11.2027</td>\n",
       "      <td>17.8739</td>\n",
       "      <td>1/22/20</td>\n",
       "      <td>0</td>\n",
       "    </tr>\n",
       "  </tbody>\n",
       "</table>\n",
       "</div>"
      ],
      "text/plain": [
       "  Province/State Country/Region      Lat     Long variable  value\n",
       "0            NaN    Afghanistan  33.0000  65.0000  1/22/20      0\n",
       "1            NaN        Albania  41.1533  20.1683  1/22/20      0\n",
       "2            NaN        Algeria  28.0339   1.6596  1/22/20      0\n",
       "3            NaN        Andorra  42.5063   1.5218  1/22/20      0\n",
       "4            NaN         Angola -11.2027  17.8739  1/22/20      0"
      ]
     },
     "execution_count": 6,
     "metadata": {},
     "output_type": "execute_result"
    }
   ],
   "source": [
    "df_mort.head()"
   ]
  },
  {
   "cell_type": "code",
   "execution_count": 7,
   "metadata": {},
   "outputs": [],
   "source": [
    "df_mort = df_mort.groupby(['Country/Region','variable'])['value'].sum().reset_index()"
   ]
  },
  {
   "cell_type": "code",
   "execution_count": 8,
   "metadata": {},
   "outputs": [],
   "source": [
    "df_mort.columns = ['country','date','deaths']"
   ]
  },
  {
   "cell_type": "code",
   "execution_count": 9,
   "metadata": {},
   "outputs": [],
   "source": [
    "countries = list(df_mov['country_region'].unique())"
   ]
  },
  {
   "cell_type": "code",
   "execution_count": 10,
   "metadata": {},
   "outputs": [],
   "source": [
    "df_mort['country'] = df_mort['country'].replace({'US':'United States','Korea, South':'South Korea','Taiwan*':'Taiwan'})"
   ]
  },
  {
   "cell_type": "code",
   "execution_count": 11,
   "metadata": {},
   "outputs": [
    {
     "data": {
      "text/plain": [
       "array([['Albania'],\n",
       "       ['Algeria'],\n",
       "       ['Andorra'],\n",
       "       ['Armenia'],\n",
       "       ['Azerbaijan'],\n",
       "       ['Bahamas'],\n",
       "       ['Bhutan'],\n",
       "       ['Brunei'],\n",
       "       ['Burma'],\n",
       "       ['Burundi'],\n",
       "       ['Cabo Verde'],\n",
       "       ['Central African Republic'],\n",
       "       ['Chad'],\n",
       "       ['China'],\n",
       "       ['Comoros'],\n",
       "       ['Congo (Brazzaville)'],\n",
       "       ['Congo (Kinshasa)'],\n",
       "       [\"Cote d'Ivoire\"],\n",
       "       ['Cuba'],\n",
       "       ['Cyprus'],\n",
       "       ['Diamond Princess'],\n",
       "       ['Djibouti'],\n",
       "       ['Dominica'],\n",
       "       ['Equatorial Guinea'],\n",
       "       ['Eritrea'],\n",
       "       ['Eswatini'],\n",
       "       ['Ethiopia'],\n",
       "       ['Gambia'],\n",
       "       ['Grenada'],\n",
       "       ['Guinea'],\n",
       "       ['Guyana'],\n",
       "       ['Holy See'],\n",
       "       ['Iceland'],\n",
       "       ['Iran'],\n",
       "       ['Kosovo'],\n",
       "       ['Liberia'],\n",
       "       ['MS Zaandam'],\n",
       "       ['Madagascar'],\n",
       "       ['Malawi'],\n",
       "       ['Maldives'],\n",
       "       ['Mauritania'],\n",
       "       ['Monaco'],\n",
       "       ['Montenegro'],\n",
       "       ['Morocco'],\n",
       "       ['Russia'],\n",
       "       ['Saint Kitts and Nevis'],\n",
       "       ['Saint Lucia'],\n",
       "       ['Saint Vincent and the Grenadines'],\n",
       "       ['San Marino'],\n",
       "       ['Sao Tome and Principe'],\n",
       "       ['Seychelles'],\n",
       "       ['Sierra Leone'],\n",
       "       ['Somalia'],\n",
       "       ['South Sudan'],\n",
       "       ['Sudan'],\n",
       "       ['Suriname'],\n",
       "       ['Syria'],\n",
       "       ['Timor-Leste'],\n",
       "       ['Tunisia'],\n",
       "       ['Ukraine'],\n",
       "       ['Uzbekistan'],\n",
       "       ['West Bank and Gaza'],\n",
       "       ['Western Sahara']], dtype=object)"
      ]
     },
     "execution_count": 11,
     "metadata": {},
     "output_type": "execute_result"
    }
   ],
   "source": [
    "df_mort[~df_mort['country'].isin(countries)][['country']].drop_duplicates().values"
   ]
  },
  {
   "cell_type": "code",
   "execution_count": 12,
   "metadata": {},
   "outputs": [],
   "source": [
    "df_mort['date'] = pd.to_datetime(df_mort['date'])"
   ]
  },
  {
   "cell_type": "code",
   "execution_count": 13,
   "metadata": {},
   "outputs": [],
   "source": [
    "df_mov = df_mov[df_mov['sub_region_1'].isnull()]"
   ]
  },
  {
   "cell_type": "code",
   "execution_count": 14,
   "metadata": {},
   "outputs": [],
   "source": [
    "df_mov = df_mov[['country_region_code','country_region','date','residential_percent_change_from_baseline']]"
   ]
  },
  {
   "cell_type": "code",
   "execution_count": 15,
   "metadata": {},
   "outputs": [
    {
     "data": {
      "text/plain": [
       "(10296, 4)"
      ]
     },
     "execution_count": 15,
     "metadata": {},
     "output_type": "execute_result"
    }
   ],
   "source": [
    "df_mov.shape"
   ]
  },
  {
   "cell_type": "code",
   "execution_count": 16,
   "metadata": {},
   "outputs": [
    {
     "data": {
      "text/plain": [
       "(20757, 3)"
      ]
     },
     "execution_count": 16,
     "metadata": {},
     "output_type": "execute_result"
    }
   ],
   "source": [
    "df_mort.shape"
   ]
  },
  {
   "cell_type": "code",
   "execution_count": 17,
   "metadata": {},
   "outputs": [],
   "source": [
    "df_mov['date'] = pd.to_datetime(df_mov['date'])"
   ]
  },
  {
   "cell_type": "code",
   "execution_count": 18,
   "metadata": {},
   "outputs": [],
   "source": [
    "df_full = pd.merge(df_mov,df_mort,left_on=['country_region','date'],right_on=['country', 'date'])"
   ]
  },
  {
   "cell_type": "code",
   "execution_count": 19,
   "metadata": {},
   "outputs": [
    {
     "data": {
      "text/plain": [
       "(9672, 6)"
      ]
     },
     "execution_count": 19,
     "metadata": {},
     "output_type": "execute_result"
    }
   ],
   "source": [
    "df_full.shape"
   ]
  },
  {
   "cell_type": "code",
   "execution_count": 20,
   "metadata": {},
   "outputs": [
    {
     "data": {
      "text/plain": [
       "124"
      ]
     },
     "execution_count": 20,
     "metadata": {},
     "output_type": "execute_result"
    }
   ],
   "source": [
    "len(df_full['country_region'].unique())"
   ]
  },
  {
   "cell_type": "code",
   "execution_count": 21,
   "metadata": {},
   "outputs": [],
   "source": [
    "countries = list(df_full['country_region'].unique())"
   ]
  },
  {
   "cell_type": "code",
   "execution_count": 22,
   "metadata": {},
   "outputs": [
    {
     "name": "stdout",
     "output_type": "stream",
     "text": [
      "Czechia Not Found\n",
      "North Macedonia Not Found\n",
      "Serbia Not Found\n"
     ]
    }
   ],
   "source": [
    "populations = []\n",
    "for c in countries:\n",
    "    try:\n",
    "        country = CountryInfo(c)\n",
    "        resp = country.info()\n",
    "        pop = resp['population']\n",
    "        #print(c,pop)\n",
    "        populations.append(pop)\n",
    "    except:\n",
    "        print(c,'Not Found')\n",
    "        populations.append('Not found')\n"
   ]
  },
  {
   "cell_type": "code",
   "execution_count": 23,
   "metadata": {},
   "outputs": [],
   "source": [
    "df_pop = pd.DataFrame({'countries':countries,'population':populations})"
   ]
  },
  {
   "cell_type": "code",
   "execution_count": 25,
   "metadata": {},
   "outputs": [],
   "source": [
    "df_pop = df_pop[df_pop['population'] != 'Not found'].copy()"
   ]
  },
  {
   "cell_type": "code",
   "execution_count": 26,
   "metadata": {},
   "outputs": [],
   "source": [
    "df_full_pop = pd.merge(df_full,df_pop,left_on=['country_region'],right_on=['countries'])"
   ]
  },
  {
   "cell_type": "code",
   "execution_count": 27,
   "metadata": {},
   "outputs": [
    {
     "data": {
      "text/plain": [
       "(9438, 8)"
      ]
     },
     "execution_count": 27,
     "metadata": {},
     "output_type": "execute_result"
    }
   ],
   "source": [
    "df_full_pop.shape"
   ]
  },
  {
   "cell_type": "code",
   "execution_count": 28,
   "metadata": {},
   "outputs": [
    {
     "data": {
      "text/plain": [
       "Index(['country_region_code', 'country_region', 'date',\n",
       "       'residential_percent_change_from_baseline', 'country', 'deaths',\n",
       "       'countries', 'population'],\n",
       "      dtype='object')"
      ]
     },
     "execution_count": 28,
     "metadata": {},
     "output_type": "execute_result"
    }
   ],
   "source": [
    "df_full_pop.columns"
   ]
  },
  {
   "cell_type": "code",
   "execution_count": 29,
   "metadata": {},
   "outputs": [],
   "source": [
    "df_full_pop = df_full_pop[['country_region', 'date',\n",
    "       'residential_percent_change_from_baseline', 'deaths', 'population']]"
   ]
  },
  {
   "cell_type": "code",
   "execution_count": 30,
   "metadata": {},
   "outputs": [],
   "source": [
    "df_full_pop.columns = ['country','date','movility_reduction','deaths','pop']"
   ]
  },
  {
   "cell_type": "code",
   "execution_count": 31,
   "metadata": {},
   "outputs": [],
   "source": [
    "df_full_pop.to_csv('movility_and_mortality.csv',index=False)"
   ]
  },
  {
   "cell_type": "code",
   "execution_count": null,
   "metadata": {},
   "outputs": [],
   "source": []
  }
 ],
 "metadata": {
  "kernelspec": {
   "display_name": "conda_python3",
   "language": "python",
   "name": "conda_python3"
  },
  "language_info": {
   "codemirror_mode": {
    "name": "ipython",
    "version": 3
   },
   "file_extension": ".py",
   "mimetype": "text/x-python",
   "name": "python",
   "nbconvert_exporter": "python",
   "pygments_lexer": "ipython3",
   "version": "3.6.5"
  }
 },
 "nbformat": 4,
 "nbformat_minor": 4
}
