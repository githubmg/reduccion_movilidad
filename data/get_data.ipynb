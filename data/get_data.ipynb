{
 "cells": [
  {
   "cell_type": "code",
   "execution_count": 1,
   "metadata": {},
   "outputs": [
    {
     "name": "stdout",
     "output_type": "stream",
     "text": [
      "--2020-05-12 17:29:11--  https://raw.githubusercontent.com/CSSEGISandData/COVID-19/master/csse_covid_19_data/csse_covid_19_time_series/time_series_covid19_deaths_global.csv\r\n",
      "Resolving raw.githubusercontent.com (raw.githubusercontent.com)... 199.232.64.133\r\n",
      "Connecting to raw.githubusercontent.com (raw.githubusercontent.com)|199.232.64.133|:443... connected.\r\n",
      "HTTP request sent, awaiting response... 200 OK\r\n",
      "Length: 76111 (74K) [text/plain]\r\n",
      "Saving to: ‘time_series_covid19_deaths_global.csv’\r\n",
      "\r\n",
      "\r",
      "          time_seri   0%[                    ]       0  --.-KB/s               \r",
      "time_series_covid19 100%[===================>]  74.33K  --.-KB/s    in 0.004s  \r\n",
      "\r\n",
      "2020-05-12 17:29:11 (19.4 MB/s) - ‘time_series_covid19_deaths_global.csv’ saved [76111/76111]\r\n",
      "\r\n"
     ]
    }
   ],
   "source": [
    "! wget https://raw.githubusercontent.com/CSSEGISandData/COVID-19/master/csse_covid_19_data/csse_covid_19_time_series/time_series_covid19_deaths_global.csv"
   ]
  },
  {
   "cell_type": "code",
   "execution_count": null,
   "metadata": {},
   "outputs": [],
   "source": []
  }
 ],
 "metadata": {
  "kernelspec": {
   "display_name": "conda_python3",
   "language": "python",
   "name": "conda_python3"
  },
  "language_info": {
   "codemirror_mode": {
    "name": "ipython",
    "version": 3
   },
   "file_extension": ".py",
   "mimetype": "text/x-python",
   "name": "python",
   "nbconvert_exporter": "python",
   "pygments_lexer": "ipython3",
   "version": "3.6.5"
  }
 },
 "nbformat": 4,
 "nbformat_minor": 4
}
